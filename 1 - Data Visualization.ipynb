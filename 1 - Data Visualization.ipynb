{
 "cells": [
  {
   "cell_type": "markdown",
   "metadata": {},
   "source": [
    "<div>\n",
    "    <img style=\"float:right;\" src=\"images/snext-logo.png\"/>\n",
    "    <div style=\"float:left;color:#626262;padding-top:30px\"><h1>Data Visualization</h1></div>\n",
    "</div>"
   ]
  },
  {
   "cell_type": "markdown",
   "metadata": {},
   "source": [
    "## Contents\n",
    "\n",
    "1. [Cells](#chapter1)  \n",
    "2. [Markdown](#chapter2)  \n",
    "3. [File Browser](#chapter3)  \n",
    "---"
   ]
  },
  {
   "cell_type": "markdown",
   "metadata": {
    "tags": []
   },
   "source": [
    "## 1. Cells <a id=\"chapter1\"/>\n",
    "\n",
    "Notebooks are divided into cells that have the type \"Code\" or \"Markdown\" (documentation). Please try these things to familiarize yourself with the functionality:\n",
    "- A blue bar marks the active (selected cell). To select a cell, use the up/down cursor keys or click left of cell (but not the blue vertical bar)\n",
    "- To collapse/expand cells, click the blue bar on the left hand side.\n",
    "- Use cursor keys up/down to select different cells.\n",
    "- Doubleclick the text of some cells in this notebook and view them in \"edit mode\". Press _shift-enter_ to \"execute the cell\" and return to the formatted view.\n",
    "- Try the following keyboard shortcuts.\n",
    "  * Shift-Enter: Execute active cell\n",
    "  * a: Insert cell *a*bove active cell\n",
    "  * b: Insert cell *b*elow active cell\n",
    "  * dd: delete active cell\n",
    "  * m: Set type of cell to \"markdown\" (text / documentation)\n",
    "  * y: Set type of cell to \"code\""
   ]
  },
  {
   "cell_type": "code",
   "execution_count": null,
   "metadata": {},
   "outputs": [],
   "source": []
  },
  {
   "cell_type": "markdown",
   "metadata": {
    "tags": []
   },
   "source": [
    "---\n",
    "## <span style=\"color:#46B7E9;\">Assignment: Create a markdown cell</span>\n",
    "1. Insert a cell below this cell (select this cell by clicking left of the cell, so that the blue bar shows, press \"b\")\n",
    "2. Change the cell type to \"Markdown\" (keyboard shortcut \"m\" or use the menu in the top bar of the window)\n",
    "3. Add some text containing a headline, some bold and italic words\n",
    "4. Execute the cell (shift-Enter) and check the result"
   ]
  }
 ],
 "metadata": {
  "kernelspec": {
   "display_name": "Python 3 (ipykernel)",
   "language": "python",
   "name": "python3"
  },
  "language_info": {
   "codemirror_mode": {
    "name": "ipython",
    "version": 3
   },
   "file_extension": ".py",
   "mimetype": "text/x-python",
   "name": "python",
   "nbconvert_exporter": "python",
   "pygments_lexer": "ipython3",
   "version": "3.11.3"
  }
 },
 "nbformat": 4,
 "nbformat_minor": 4
}
